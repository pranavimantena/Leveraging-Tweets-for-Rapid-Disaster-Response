{
  "nbformat": 4,
  "nbformat_minor": 0,
  "metadata": {
    "colab": {
      "provenance": []
    },
    "kernelspec": {
      "name": "python3",
      "display_name": "Python 3"
    },
    "language_info": {
      "name": "python"
    }
  },
  "cells": [
    {
      "cell_type": "markdown",
      "source": [
        "To build a model that identifies if a tweet informs about a disaster using Long Short-Term Memory (LSTM) neural networks, we need to follow these steps:\n",
        "\n",
        "Data collection: We need to collect a dataset of tweets that inform about disasters and tweets that do not inform about disasters.\n",
        "\n",
        "Data pre-processing: We need to clean and preprocess the data by removing stop words, special characters, and converting text to lowercase.\n",
        "\n",
        "Feature extraction: We need to extract features from the preprocessed data. In this case, we will use word embeddings to represent each word in the text as a vector.\n",
        "\n",
        "Train the LSTM model: We will train the LSTM model on the preprocessed and feature extracted data.\n",
        "\n",
        "Evaluate the model: We will evaluate the performance of the LSTM model using metrics such as accuracy, precision, recall, and F1 score.\n",
        "\n",
        "This will train the model for 10 epochs with a batch size of 32 and use the validation data to evaluate the performance after each epoch."
      ],
      "metadata": {
        "id": "cqGeFk6P8srZ"
      }
    },
    {
      "cell_type": "code",
      "source": [
        "# Step 1: Data collection\n",
        "import pandas as pd\n",
        "from google.colab import drive\n",
        "drive.mount('/content/drive')\n",
        "\n",
        "# Load the dataset of tweets\n",
        "file_path = \"/content/drive/MyDrive/CS298/tweets.csv\"\n",
        "df = pd.read_csv(file_path)"
      ],
      "metadata": {
        "colab": {
          "base_uri": "https://localhost:8080/"
        },
        "id": "bzWyhPDW7u4J",
        "outputId": "4c3aff19-40cb-4e3e-98ce-ded449a77d6a"
      },
      "execution_count": null,
      "outputs": [
        {
          "output_type": "stream",
          "name": "stdout",
          "text": [
            "Mounted at /content/drive\n"
          ]
        }
      ]
    },
    {
      "cell_type": "code",
      "source": [
        "# Step 2: Data pre-processing\n",
        "import re\n",
        "import nltk\n",
        "from nltk.corpus import stopwords\n",
        "from nltk.stem import PorterStemmer\n",
        "\n",
        "# Download the stop words and stemmer from NLTK\n",
        "nltk.download('stopwords')\n",
        "stemmer = PorterStemmer()\n",
        "nltk.download('punkt')"
      ],
      "metadata": {
        "colab": {
          "base_uri": "https://localhost:8080/"
        },
        "id": "SGJRPGzz7z_u",
        "outputId": "c049f7bf-99d8-4bad-f7b9-26026c4b3a23"
      },
      "execution_count": null,
      "outputs": [
        {
          "output_type": "stream",
          "name": "stderr",
          "text": [
            "[nltk_data] Downloading package stopwords to /root/nltk_data...\n",
            "[nltk_data]   Unzipping corpora/stopwords.zip.\n",
            "[nltk_data] Downloading package punkt to /root/nltk_data...\n",
            "[nltk_data]   Unzipping tokenizers/punkt.zip.\n"
          ]
        },
        {
          "output_type": "execute_result",
          "data": {
            "text/plain": [
              "True"
            ]
          },
          "metadata": {},
          "execution_count": 3
        }
      ]
    },
    {
      "cell_type": "code",
      "source": [
        "# Function to clean and preprocess the text\n",
        "def preprocess(text):\n",
        "    # Remove URLs, mentions, and special characters\n",
        "    text = re.sub(r'http\\S+', '', text)\n",
        "    text = re.sub(r'@[^\\s]+', '', text)\n",
        "    text = re.sub(r'[^a-zA-Z0-9\\s]', '', text)\n",
        "    # Convert text to lowercase\n",
        "    text = text.lower()\n",
        "    # Tokenize the text\n",
        "    tokens = nltk.word_tokenize(text)\n",
        "    # Remove stop words and stem the words\n",
        "    words = [stemmer.stem(word) for word in tokens if word not in stopwords.words('english')]\n",
        "    # Join the words back into a string\n",
        "    return ' '.join(words)\n",
        "\n",
        "# Apply the preprocess function to the text column\n",
        "df['text'] = df['text'].apply(preprocess)"
      ],
      "metadata": {
        "id": "u9jIDl12_JeA"
      },
      "execution_count": null,
      "outputs": []
    },
    {
      "cell_type": "code",
      "source": [
        "import numpy as np\n",
        "\n",
        "def create_embedding_matrix(filepath, word_index, embedding_dim):\n",
        "    \"\"\"\n",
        "    This function creates an embedding matrix for use in an Embedding layer.\n",
        "    \n",
        "    Args:\n",
        "    filepath (str): Path to the GloVe word embeddings file.\n",
        "    word_index (dict): A dictionary mapping words to their respective indices in the tokenizer.\n",
        "    embedding_dim (int): Dimension of the word embeddings.\n",
        "    \n",
        "    Returns:\n",
        "    embedding_matrix (numpy.ndarray): A matrix of shape (vocab_size, embedding_dim), where each row contains the word embeddings for a particular word in the vocabulary.\n",
        "    \"\"\"\n",
        "    vocab_size = len(word_index) + 1  # Adding 1 because of reserved 0 index\n",
        "    embedding_matrix = np.zeros((vocab_size, embedding_dim))\n",
        "\n",
        "    with open(filepath) as f:\n",
        "        for line in f:\n",
        "            word, *vector = line.split()\n",
        "            if word in word_index:\n",
        "                idx = word_index[word]\n",
        "                embedding_matrix[idx] = np.array(\n",
        "                    vector, dtype=np.float32)[:embedding_dim]\n",
        "\n",
        "    return embedding_matrix"
      ],
      "metadata": {
        "id": "seb-ePq_BiPZ"
      },
      "execution_count": null,
      "outputs": []
    },
    {
      "cell_type": "code",
      "source": [
        "from tensorflow.keras.preprocessing.sequence import pad_sequences\n",
        "from keras.preprocessing.text import Tokenizer\n",
        "from keras.layers import Embedding, LSTM, Dense, Dropout\n",
        "from keras.models import Sequential\n",
        "from sklearn.model_selection import train_test_split\n",
        "\n",
        "# Convert the text to sequences of word indices\n",
        "tokenizer = Tokenizer()\n",
        "tokenizer.fit_on_texts(df['text'])\n",
        "sequences = tokenizer.texts_to_sequences(df['text'])\n",
        "\n",
        "# Pad the sequences to have equal length\n",
        "maxlen = max(len(seq) for seq in sequences)\n",
        "X = pad_sequences(sequences, maxlen=maxlen)\n",
        "\n",
        "# Create word embeddings using pre-trained GloVe embeddings\n",
        "embedding_dim = 100\n",
        "embedding_matrix = create_embedding_matrix('/content/drive/MyDrive/CS298/glove.6B.100d.txt', tokenizer.word_index, embedding_dim)\n",
        "embedding_layer = Embedding(len(tokenizer.word_index) + 1, embedding_dim, weights=[embedding_matrix], input_length=maxlen, trainable=False)\n",
        "\n",
        "# Split the data into training and testing sets\n",
        "y = df['target']\n",
        "X_train, X_test, y_train, y_test = train_test_split(X, y, test_size=0.2, random_state=42)"
      ],
      "metadata": {
        "id": "jCuO7tQkFPqL"
      },
      "execution_count": null,
      "outputs": []
    },
    {
      "cell_type": "code",
      "execution_count": null,
      "metadata": {
        "id": "K45gEt6Y7RuG"
      },
      "outputs": [],
      "source": [
        "# Define the LSTM model\n",
        "model = Sequential()\n",
        "model.add(embedding_layer)\n",
        "model.add(LSTM(128, dropout=0.2, recurrent_dropout=0.2))\n",
        "model.add(Dense(1, activation='sigmoid'))\n",
        "\n",
        "# Compile the model\n",
        "model.compile(loss='binary_crossentropy', optimizer='adam', metrics=['accuracy'])\n"
      ]
    },
    {
      "cell_type": "code",
      "source": [
        "# Train the LSTM model\n",
        "history = model.fit(X_train, y_train, batch_size=32, epochs=10, validation_data=(X_test, y_test))"
      ],
      "metadata": {
        "colab": {
          "base_uri": "https://localhost:8080/"
        },
        "id": "A8XYm13B813D",
        "outputId": "a5ac9509-244b-485d-87fd-60b532760d30"
      },
      "execution_count": null,
      "outputs": [
        {
          "output_type": "stream",
          "name": "stdout",
          "text": [
            "Epoch 1/10\n",
            "191/191 [==============================] - 25s 106ms/step - loss: 0.5239 - accuracy: 0.7537 - val_loss: 0.4851 - val_accuracy: 0.7840\n",
            "Epoch 2/10\n",
            "191/191 [==============================] - 22s 113ms/step - loss: 0.4812 - accuracy: 0.7787 - val_loss: 0.4773 - val_accuracy: 0.7951\n",
            "Epoch 3/10\n",
            "191/191 [==============================] - 19s 100ms/step - loss: 0.4662 - accuracy: 0.7828 - val_loss: 0.4796 - val_accuracy: 0.7892\n",
            "Epoch 4/10\n",
            "191/191 [==============================] - 15s 79ms/step - loss: 0.4437 - accuracy: 0.7989 - val_loss: 0.4892 - val_accuracy: 0.7919\n",
            "Epoch 5/10\n",
            "191/191 [==============================] - 15s 78ms/step - loss: 0.4199 - accuracy: 0.8094 - val_loss: 0.4904 - val_accuracy: 0.7800\n",
            "Epoch 6/10\n",
            "191/191 [==============================] - 15s 77ms/step - loss: 0.3974 - accuracy: 0.8246 - val_loss: 0.5268 - val_accuracy: 0.7846\n",
            "Epoch 7/10\n",
            "191/191 [==============================] - 15s 77ms/step - loss: 0.3806 - accuracy: 0.8338 - val_loss: 0.5128 - val_accuracy: 0.7741\n",
            "Epoch 8/10\n",
            "191/191 [==============================] - 15s 78ms/step - loss: 0.3611 - accuracy: 0.8442 - val_loss: 0.5238 - val_accuracy: 0.7859\n",
            "Epoch 9/10\n",
            "191/191 [==============================] - 15s 77ms/step - loss: 0.3309 - accuracy: 0.8586 - val_loss: 0.5574 - val_accuracy: 0.7794\n",
            "Epoch 10/10\n",
            "191/191 [==============================] - 16s 83ms/step - loss: 0.3059 - accuracy: 0.8722 - val_loss: 0.5896 - val_accuracy: 0.7728\n"
          ]
        }
      ]
    },
    {
      "cell_type": "code",
      "source": [
        "from sklearn.metrics import accuracy_score, precision_score, recall_score, f1_score\n",
        "# Evaluate the model on the test set and get the predicted labels\n",
        "y_pred = model.predict(X_test)\n",
        "y_pred = (y_pred > 0.5) # Convert probabilities to binary labels\n",
        "\n",
        "# Get the true labels for the test set\n",
        "y_true = y_test\n",
        "\n",
        "# Calculate the evaluation metrics\n",
        "accuracy = accuracy_score(y_true, y_pred)\n",
        "precision = precision_score(y_true, y_pred)\n",
        "recall = recall_score(y_true, y_pred)\n",
        "f1 = f1_score(y_true, y_pred)\n",
        "\n",
        "print('Accuracy:', accuracy)\n",
        "print('Precision:', precision)\n",
        "print('Recall:', recall)\n",
        "print('F1 score:', f1)"
      ],
      "metadata": {
        "colab": {
          "base_uri": "https://localhost:8080/"
        },
        "id": "vij3Hogn864l",
        "outputId": "ac2f7b21-641c-421d-cf93-b931f46cff97"
      },
      "execution_count": null,
      "outputs": [
        {
          "output_type": "stream",
          "name": "stdout",
          "text": [
            "48/48 [==============================] - 1s 21ms/step\n",
            "Accuracy: 0.7728168089297439\n",
            "Precision: 0.75809199318569\n",
            "Recall: 0.6856702619414484\n",
            "F1 score: 0.7200647249190939\n"
          ]
        }
      ]
    },
    {
      "cell_type": "code",
      "source": [
        "# Evaluate the model\n",
        "loss, accuracy = model.evaluate(X_test, y_test)\n",
        "print('Loss:', loss)\n",
        "print('Accuracy:', accuracy)"
      ],
      "metadata": {
        "colab": {
          "base_uri": "https://localhost:8080/"
        },
        "id": "vqr6XDUBVY6_",
        "outputId": "4e5610b2-7dd0-4ce5-d891-2a390d8afec3"
      },
      "execution_count": null,
      "outputs": [
        {
          "output_type": "stream",
          "name": "stdout",
          "text": [
            "48/48 [==============================] - 1s 11ms/step - loss: 0.5896 - accuracy: 0.7728\n",
            "Loss: 0.589633047580719\n",
            "Accuracy: 0.7728168368339539\n"
          ]
        }
      ]
    }
  ]
}
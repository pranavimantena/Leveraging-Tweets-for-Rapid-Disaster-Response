{
  "nbformat": 4,
  "nbformat_minor": 0,
  "metadata": {
    "colab": {
      "provenance": []
    },
    "kernelspec": {
      "name": "python3",
      "display_name": "Python 3"
    },
    "language_info": {
      "name": "python"
    }
  },
  "cells": [
    {
      "cell_type": "markdown",
      "source": [
        "To build a model that identifies if a tweet informs about a disaster using Support Vector Machine (SVM), we need to follow these steps:\n",
        "\n",
        "Data collection: We need to collect a dataset of tweets that inform about \n",
        "disasters and tweets that do not inform about disasters.\n",
        "\n",
        "Data pre-processing: We need to clean and preprocess the data by removing stop words, special characters, and converting text to lowercase.\n",
        "\n",
        "Feature extraction: We need to extract features from the preprocessed data. One way to do this is to use the Bag of Words model, which creates a vocabulary of unique words from the text and then counts the number of occurrences of each word in each tweet.\n",
        "\n",
        "Train the SVM model: We will train the SVM model on the preprocessed and feature extracted data.\n",
        "\n",
        "Evaluate the model: We will evaluate the performance of the SVM model using metrics such as accuracy, precision, recall, and F1 score.\n",
        "\n",
        "\n"
      ],
      "metadata": {
        "id": "XMRxYaS58VjQ"
      }
    },
    {
      "cell_type": "code",
      "source": [
        "# Step 1: Data collection\n",
        "import pandas as pd\n",
        "from google.colab import drive\n",
        "drive.mount('/content/drive')\n",
        "\n",
        "# Load the dataset of tweets\n",
        "file_path = \"/content/drive/MyDrive/CS298/tweets.csv\"\n",
        "df = pd.read_csv(file_path)"
      ],
      "metadata": {
        "colab": {
          "base_uri": "https://localhost:8080/"
        },
        "id": "CDT_BJCw6wEd",
        "outputId": "07f6f7e2-66cf-4a60-d3f8-943899a20103"
      },
      "execution_count": null,
      "outputs": [
        {
          "output_type": "stream",
          "name": "stdout",
          "text": [
            "Mounted at /content/drive\n"
          ]
        }
      ]
    },
    {
      "cell_type": "code",
      "source": [
        "# Step 2: Data pre-processing\n",
        "import re\n",
        "import nltk\n",
        "from nltk.corpus import stopwords\n",
        "from nltk.stem import PorterStemmer\n",
        "\n",
        "# Download the stop words and stemmer from NLTK\n",
        "nltk.download('stopwords')\n",
        "stemmer = PorterStemmer()\n",
        "nltk.download('punkt')\n",
        "# Function to clean and preprocess the text\n",
        "def preprocess(text):\n",
        "    # Remove URLs, mentions, and special characters\n",
        "    text = re.sub(r'http\\S+', '', text)\n",
        "    text = re.sub(r'@[^\\s]+', '', text)\n",
        "    text = re.sub(r'[^a-zA-Z0-9\\s]', '', text)\n",
        "    # Convert text to lowercase\n",
        "    text = text.lower()\n",
        "    # Tokenize the text\n",
        "    tokens = nltk.word_tokenize(text)\n",
        "    # Remove stop words and stem the words\n",
        "    words = [stemmer.stem(word) for word in tokens if word not in stopwords.words('english')]\n",
        "    # Join the words back into a string\n",
        "    return ' '.join(words)\n",
        "\n",
        "# Apply the preprocess function to the text column\n",
        "df['text'] = df['text'].apply(preprocess)"
      ],
      "metadata": {
        "colab": {
          "base_uri": "https://localhost:8080/"
        },
        "id": "DCdw8_bG7Af8",
        "outputId": "404a449a-f380-44d1-970c-0f28585e1abf"
      },
      "execution_count": null,
      "outputs": [
        {
          "output_type": "stream",
          "name": "stderr",
          "text": [
            "[nltk_data] Downloading package stopwords to /root/nltk_data...\n",
            "[nltk_data]   Package stopwords is already up-to-date!\n",
            "[nltk_data] Downloading package punkt to /root/nltk_data...\n",
            "[nltk_data]   Unzipping tokenizers/punkt.zip.\n"
          ]
        }
      ]
    },
    {
      "cell_type": "code",
      "execution_count": null,
      "metadata": {
        "colab": {
          "base_uri": "https://localhost:8080/"
        },
        "id": "Ph79YW846E5D",
        "outputId": "65bc49fe-9a66-45f4-900d-4abc5c849fbc"
      },
      "outputs": [
        {
          "output_type": "stream",
          "name": "stdout",
          "text": [
            "Accuracy: 0.7708470124753776\n",
            "Precision: 0.7551020408163265\n",
            "Recall: 0.6841294298921418\n",
            "F1 score: 0.7178658043654003\n"
          ]
        }
      ],
      "source": [
        "# Step 3: Feature extraction\n",
        "from sklearn.feature_extraction.text import CountVectorizer\n",
        "\n",
        "# Create a bag of words model\n",
        "vectorizer = CountVectorizer()\n",
        "X = vectorizer.fit_transform(df['text'])\n",
        "y = df['target']\n",
        "\n",
        "# Step 4: Train the SVM model\n",
        "from sklearn.svm import SVC\n",
        "from sklearn.model_selection import train_test_split\n",
        "\n",
        "# Split the data into training and testing sets\n",
        "X_train, X_test, y_train, y_test = train_test_split(X, y, test_size=0.2, random_state=42)\n",
        "\n",
        "# Train the SVM model\n",
        "svm = SVC(kernel='linear', C=1)\n",
        "svm.fit(X_train, y_train)\n",
        "\n",
        "# Step 5: Evaluate the model\n",
        "from sklearn.metrics import accuracy_score, precision_score, recall_score, f1_score\n",
        "\n",
        "# Predict the target values for the test set\n",
        "y_pred = svm.predict(X_test)\n",
        "\n",
        "# Calculate the evaluation metrics\n",
        "accuracy = accuracy_score(y_test, y_pred)\n",
        "precision = precision_score(y_test, y_pred)\n",
        "recall = recall_score(y_test, y_pred)\n",
        "f1 = f1_score(y_test, y_pred)\n",
        "\n",
        "print('Accuracy:', accuracy)\n",
        "print('Precision:', precision)\n",
        "print('Recall:', recall)\n",
        "print('F1 score:', f1)"
      ]
    }
  ]
}